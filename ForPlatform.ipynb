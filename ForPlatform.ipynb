{
 "cells": [
  {
   "cell_type": "code",
   "execution_count": 3,
   "id": "977b0144-1507-4fbd-a144-cc051a68faf1",
   "metadata": {
    "execution": {
     "iopub.execute_input": "2024-12-11T14:40:01.923394Z",
     "iopub.status.busy": "2024-12-11T14:40:01.923188Z",
     "iopub.status.idle": "2024-12-11T14:40:02.271630Z",
     "shell.execute_reply": "2024-12-11T14:40:02.271147Z",
     "shell.execute_reply.started": "2024-12-11T14:40:01.923379Z"
    },
    "tags": []
   },
   "outputs": [
    {
     "data": {
      "text/plain": [
       "'\\nsic data retrieve lib import\\n-------------------\\n'"
      ]
     },
     "execution_count": 3,
     "metadata": {},
     "output_type": "execute_result"
    }
   ],
   "source": [
    "import numpy as np\n",
    "import pandas as pd\n",
    "import os\n",
    "import re\n",
    "import datetime as dt\n",
    "from datetime import datetime, timedelta\n",
    "from dateutil.relativedelta import relativedelta\n",
    "from pandas.tseries.offsets import BDay\n",
    "from uuid import uuid4\n",
    "import matplotlib.pyplot as plt\n",
    "import pmdarima\n",
    "import math\n",
    "\n",
    "# !pip install pmdarima\n",
    "\n",
    "current_path = os.getcwd()\n",
    "os.chdir(current_path)\n",
    "\n",
    "# import Rolling_Algo_SG as rsg\n",
    "\n",
    "'''\n",
    "sic data retrieve lib import\n",
    "-------------------\n",
    "'''"
   ]
  },
  {
   "cell_type": "code",
   "execution_count": 7,
   "id": "c610821d-6898-4e40-a154-625494730135",
   "metadata": {},
   "outputs": [
    {
     "data": {
      "text/plain": [
       "'/shared/Self_Insure'"
      ]
     },
     "execution_count": 7,
     "metadata": {},
     "output_type": "execute_result"
    }
   ],
   "source": [
    "os.getcwd()"
   ]
  },
  {
   "cell_type": "code",
   "execution_count": 8,
   "id": "575a7a1f-194b-4c37-a727-276485f9f211",
   "metadata": {
    "execution": {
     "iopub.execute_input": "2024-12-11T14:40:14.407446Z",
     "iopub.status.busy": "2024-12-11T14:40:14.407242Z",
     "iopub.status.idle": "2024-12-11T14:40:14.411426Z",
     "shell.execute_reply": "2024-12-11T14:40:14.410311Z",
     "shell.execute_reply.started": "2024-12-11T14:40:14.407432Z"
    }
   },
   "outputs": [],
   "source": [
    "os.chdir('/shared/Self_Insure/')"
   ]
  },
  {
   "cell_type": "code",
   "execution_count": 6,
   "id": "b01dcff4-5669-4a3c-8bd5-b818ab571a8f",
   "metadata": {
    "execution": {
     "iopub.execute_input": "2024-12-11T14:40:08.948628Z",
     "iopub.status.busy": "2024-12-11T14:40:08.948476Z",
     "iopub.status.idle": "2024-12-11T14:40:09.218887Z",
     "shell.execute_reply": "2024-12-11T14:40:09.217999Z",
     "shell.execute_reply.started": "2024-12-11T14:40:08.948615Z"
    },
    "tags": []
   },
   "outputs": [],
   "source": [
    "from falcon.loader import sic as sic_loader\n",
    "from falcon.scenario_generators.SARIMA import SARIMA\n",
    "from falcon.scenario_generators.main import generate_sim_dates as data_date\n",
    "from falcon.scenario_generators.portfolio_tools import PortfolioTool\n",
    "from falcon.scenario_generators.HistoricalSimulationV4 import HistoricalSimulation as HS"
   ]
  },
  {
   "cell_type": "code",
   "execution_count": 9,
   "id": "41be427e-fe52-4ef0-92e9-0621d1c59808",
   "metadata": {
    "execution": {
     "iopub.execute_input": "2024-12-11T14:40:16.333235Z",
     "iopub.status.busy": "2024-12-11T14:40:16.332971Z",
     "iopub.status.idle": "2024-12-11T14:40:16.337260Z",
     "shell.execute_reply": "2024-12-11T14:40:16.336729Z",
     "shell.execute_reply.started": "2024-12-11T14:40:16.333219Z"
    },
    "tags": []
   },
   "outputs": [],
   "source": [
    "from HistoricalSimulation_platform import HistoricalSimulation as HS_p"
   ]
  },
  {
   "cell_type": "code",
   "execution_count": 1,
   "id": "ca26334a-1c2f-47c1-ac3c-d7b380cad7e6",
   "metadata": {
    "collapsed": true,
    "execution": {
     "iopub.execute_input": "2024-10-29T10:25:50.124326Z",
     "iopub.status.busy": "2024-10-29T10:25:50.124108Z",
     "iopub.status.idle": "2024-10-29T10:25:50.232698Z",
     "shell.execute_reply": "2024-10-29T10:25:50.231629Z",
     "shell.execute_reply.started": "2024-10-29T10:25:50.124309Z"
    },
    "jupyter": {
     "outputs_hidden": true
    },
    "scrolled": true,
    "tags": []
   },
   "outputs": [
    {
     "ename": "NameError",
     "evalue": "name 'pd' is not defined",
     "output_type": "error",
     "traceback": [
      "\u001b[0;31m---------------------------------------------------------------------------\u001b[0m",
      "\u001b[0;31mNameError\u001b[0m                                 Traceback (most recent call last)",
      "Cell \u001b[0;32mIn[1], line 4\u001b[0m\n\u001b[1;32m      2\u001b[0m sic_str \u001b[38;5;241m=\u001b[39m \u001b[38;5;124m'\u001b[39m\u001b[38;5;124mUS3319\u001b[39m\u001b[38;5;124m'\u001b[39m\n\u001b[1;32m      3\u001b[0m frequency \u001b[38;5;241m=\u001b[39m \u001b[38;5;124m'\u001b[39m\u001b[38;5;124mM\u001b[39m\u001b[38;5;124m'\u001b[39m\n\u001b[0;32m----> 4\u001b[0m datetime_anchor \u001b[38;5;241m=\u001b[39m \u001b[43mpd\u001b[49m\u001b[38;5;241m.\u001b[39mto_datetime(\u001b[38;5;124m'\u001b[39m\u001b[38;5;124m2024-10-01\u001b[39m\u001b[38;5;124m'\u001b[39m)\n\u001b[1;32m      5\u001b[0m details, sic_data, _ \u001b[38;5;241m=\u001b[39m sic_loader\u001b[38;5;241m.\u001b[39mDataCenter\u001b[38;5;241m.\u001b[39mload_sic_data_db(sic_str, drop_extension\u001b[38;5;241m=\u001b[39m\u001b[38;5;28;01mFalse\u001b[39;00m)\n\u001b[1;32m      6\u001b[0m sic_data \u001b[38;5;241m=\u001b[39m sic_data[sic_data\u001b[38;5;241m.\u001b[39mindex \u001b[38;5;241m<\u001b[39m\u001b[38;5;241m=\u001b[39m datetime_anchor]\n",
      "\u001b[0;31mNameError\u001b[0m: name 'pd' is not defined"
     ]
    }
   ],
   "source": [
    "# get data in list format\n",
    "sic_str = 'US3319'\n",
    "frequency = 'M'\n",
    "datetime_anchor = pd.to_datetime('2024-10-01')\n",
    "details, sic_data, _ = sic_loader.DataCenter.load_sic_data_db(sic_str, drop_extension=False)\n",
    "sic_data = sic_data[sic_data.index <= datetime_anchor]\n",
    "sic_data = sic_data[sic_data.index >= pd.to_datetime('2012-01-01')]\n",
    "sic_data = sic_data.resample('ME').mean()\n",
    "sic_data = np.exp(np.log(sic_data).interpolate())\n",
    "sic_log = np.log(sic_data)\n",
    "sic_log = sic_log.iloc[1:]\n",
    "sic_log = list(sic_log[sic_str])"
   ]
  },
  {
   "cell_type": "code",
   "execution_count": 38,
   "id": "0eb59049-9f28-4327-957a-5dfcab34f58d",
   "metadata": {
    "collapsed": true,
    "jupyter": {
     "outputs_hidden": true
    }
   },
   "outputs": [
    {
     "data": {
      "text/plain": [
       "[3.3371525657925734,\n",
       " 3.317074391248395,\n",
       " 3.2633275874390346,\n",
       " 3.253277251585533,\n",
       " 3.239611723347379,\n",
       " 3.530363198405819,\n",
       " 3.5158007644011593,\n",
       " 3.462382070701295,\n",
       " 3.3736278276239813,\n",
       " 3.215536923602686,\n",
       " 3.2124918542582774,\n",
       " 3.2997279214972957,\n",
       " 3.2108436531709366,\n",
       " 2.9130592981629593,\n",
       " 2.945691327482906,\n",
       " 3.3030127040744004,\n",
       " 3.6276687230690396,\n",
       " 3.7736226356921194,\n",
       " 3.3931944287993536,\n",
       " 3.899638946228424,\n",
       " 4.218956082472039,\n",
       " 3.3375473545856993,\n",
       " 3.24426505887302,\n",
       " 3.2367157429965316,\n",
       " 3.5893498587669033,\n",
       " 3.557209681636114,\n",
       " 3.5687911317458663,\n",
       " 3.7190999967568206,\n",
       " 3.8056518782643955,\n",
       " 3.8182616256136717,\n",
       " 4.121332170964988,\n",
       " 4.254060086682767,\n",
       " 3.7562042685001904,\n",
       " 3.1669631436537875,\n",
       " 3.6216707044204863,\n",
       " 3.449609545449086,\n",
       " 3.34109345759245,\n",
       " 3.407841924380824,\n",
       " 3.5624655292582776,\n",
       " 3.4521497088360826,\n",
       " 3.42045519826657,\n",
       " 3.571542747409394,\n",
       " 3.9599057285189745,\n",
       " 3.543371870442698,\n",
       " 3.3472690396365996,\n",
       " 3.8229041460989515,\n",
       " 3.1553624191458747,\n",
       " 3.3239286008713442,\n",
       " 3.264653938567641,\n",
       " 3.448315304639225,\n",
       " 4.030916535368556,\n",
       " 3.834061463958434,\n",
       " 4.096841442420688,\n",
       " 4.102385067217976,\n",
       " 3.604591637591347,\n",
       " 3.680686259148462,\n",
       " 3.282490624051434,\n",
       " 3.1055892439379535,\n",
       " 3.1473798231631305,\n",
       " 3.2845649995394837,\n",
       " 3.474945013211776,\n",
       " 3.519990008519891,\n",
       " 3.563593197521151,\n",
       " 3.2898001632048994,\n",
       " 3.2333165090229947,\n",
       " 3.36365946234309,\n",
       " 3.259469221833454,\n",
       " 3.2356392914382073,\n",
       " 3.1269171652973897,\n",
       " 2.9612634103523434,\n",
       " 2.939728654866257,\n",
       " 3.048586848508494,\n",
       " 3.1288935318977975,\n",
       " 3.323431669038658,\n",
       " 3.4173540359474175,\n",
       " 3.4711897534821903,\n",
       " 3.5074665752561995,\n",
       " 3.6353279728427936,\n",
       " 3.5559323063695465,\n",
       " 3.4336031061512515,\n",
       " 3.4279204518029087,\n",
       " 3.4119724548301136,\n",
       " 3.5614518444274315,\n",
       " 3.7617813420976027,\n",
       " 3.8568440553051797,\n",
       " 3.8114817762062687,\n",
       " 3.9986593120876925,\n",
       " 4.117875059632294,\n",
       " 4.252737929788149,\n",
       " 3.882079129055074,\n",
       " 3.5279577139031506,\n",
       " 3.4593914142666473,\n",
       " 3.342861804649192,\n",
       " 3.0989655281956425,\n",
       " 3.1098047298138387,\n",
       " 3.246490991901174,\n",
       " 3.1922075777860393,\n",
       " 3.3942895192537454,\n",
       " 3.5115454388310208,\n",
       " 3.395880240384535,\n",
       " 3.5943725230475208,\n",
       " 3.6329702596744196,\n",
       " 3.390268311129965,\n",
       " 3.275256158304308,\n",
       " 3.315916108910308,\n",
       " 3.133317936506554,\n",
       " 3.2188758248682,\n",
       " 3.2608400239672326,\n",
       " 3.2676659890376327,\n",
       " 3.3433034032432527,\n",
       " 3.783052624131186,\n",
       " 3.6327899874628926,\n",
       " 3.697768401531182,\n",
       " 4.0357144777706955,\n",
       " 3.934718058814726]"
      ]
     },
     "execution_count": 38,
     "metadata": {},
     "output_type": "execute_result"
    }
   ],
   "source": [
    "sic_log"
   ]
  },
  {
   "cell_type": "code",
   "execution_count": 10,
   "id": "6cd29661-8bb5-45c2-8415-03bb2a867d62",
   "metadata": {
    "execution": {
     "iopub.execute_input": "2024-12-11T14:40:19.126338Z",
     "iopub.status.busy": "2024-12-11T14:40:19.126105Z",
     "iopub.status.idle": "2024-12-11T14:40:19.131792Z",
     "shell.execute_reply": "2024-12-11T14:40:19.130858Z",
     "shell.execute_reply.started": "2024-12-11T14:40:19.126322Z"
    },
    "tags": []
   },
   "outputs": [],
   "source": [
    "def percentiles_as_dict(forecasts) -> dict:\n",
    "    percentiles = {\n",
    "        \"min\": np.min(forecasts, axis=1).tolist(),\n",
    "        \"5per\": np.percentile(forecasts, 5, axis=1).tolist(),\n",
    "        \"10per\": np.percentile(forecasts, 10, axis=1).tolist(),\n",
    "        \"20per\": np.percentile(forecasts, 20, axis=1).tolist(),\n",
    "        \"30per\": np.percentile(forecasts, 25, axis=1).tolist(),\n",
    "        \"40per\": np.percentile(forecasts, 35, axis=1).tolist(),\n",
    "        \"50per\": np.percentile(forecasts, 50, axis=1).tolist(),\n",
    "        \"60per\": np.percentile(forecasts, 65, axis=1).tolist(),\n",
    "        \"70per\": np.percentile(forecasts, 75, axis=1).tolist(),\n",
    "        \"80per\": np.percentile(forecasts, 80, axis=1).tolist(),\n",
    "        \"90per\": np.percentile(forecasts, 90, axis=1).tolist(),\n",
    "        \"95per\": np.percentile(forecasts, 95, axis=1).tolist(),\n",
    "        \"max\": np.max(forecasts, axis=1).tolist(),\n",
    "        \"mean\": np.mean(forecasts, axis=1).tolist(),\n",
    "        \"std\": np.std(forecasts, axis=1).tolist(),\n",
    "    }\n",
    "    return percentiles"
   ]
  },
  {
   "cell_type": "code",
   "execution_count": 11,
   "id": "fbf2d74d-8f14-42e9-b088-f1a6a5e6aae4",
   "metadata": {
    "execution": {
     "iopub.execute_input": "2024-12-11T14:40:21.092518Z",
     "iopub.status.busy": "2024-12-11T14:40:21.092314Z",
     "iopub.status.idle": "2024-12-11T14:40:21.098476Z",
     "shell.execute_reply": "2024-12-11T14:40:21.096793Z",
     "shell.execute_reply.started": "2024-12-11T14:40:21.092505Z"
    },
    "tags": []
   },
   "outputs": [],
   "source": [
    "def filtered_hs_bootstrap_seasonal(data, freq,\n",
    "         sim_length = 18, n_sims = 200):\n",
    "    model = HS_p(filtering=True, bootstrap=True,weighting=f\"S{freq}\")\n",
    "    model.fit(data)\n",
    "    forecasts = model.simulate(sim_length, num_paths=n_sims)\n",
    "    percentiles = percentiles_as_dict(forecasts)\n",
    "    # sort columns by mean: forecasts: n_sims x forecast_length\n",
    "    # Compute the average of each column\n",
    "    column_averages = np.mean(forecasts, axis=0)\n",
    "    # Get the indices that would sort the columns based on their average\n",
    "    sorted_indices = np.argsort(column_averages)\n",
    "    # Sort the array columns based on the sorted indices\n",
    "    forecasts = forecasts[:, sorted_indices]\n",
    "    forecasts = forecasts.tolist()\n",
    "    n_sims = len(forecasts[0])\n",
    "    # create the return messages\n",
    "    msg = {\n",
    "        \"generator_code_name\": \"filtered_hs_bootstrap_seasonal\",\n",
    "        \"run_time\": datetime.utcnow(),\n",
    "        \"raw_data\": data,\n",
    "        \"sim_length\": sim_length,\n",
    "        \"n_sims\": n_sims,\n",
    "        \"status\": \"success\",\n",
    "        \"forecast\": forecasts,\n",
    "        \"percentiles\": percentiles,\n",
    "    }\n",
    "    return msg"
   ]
  },
  {
   "cell_type": "code",
   "execution_count": 12,
   "id": "c6cf1450-31af-4f1e-8ea7-08fd8c828745",
   "metadata": {
    "execution": {
     "iopub.execute_input": "2024-12-11T14:40:22.555551Z",
     "iopub.status.busy": "2024-12-11T14:40:22.555372Z",
     "iopub.status.idle": "2024-12-11T14:40:22.561200Z",
     "shell.execute_reply": "2024-12-11T14:40:22.559869Z",
     "shell.execute_reply.started": "2024-12-11T14:40:22.555537Z"
    }
   },
   "outputs": [],
   "source": [
    "def hs_bootstrap_seasonal(data, freq,\n",
    "         sim_length = 18, n_sims = 200):\n",
    "    model = HS_p(bootstrap=True, weighting=f\"S{freq}\")\n",
    "    model.fit(data)\n",
    "    forecasts = model.simulate(sim_length, num_paths=n_sims)\n",
    "    percentiles = percentiles_as_dict(forecasts)\n",
    "    # sort columns by mean: forecasts: n_sims x forecast_length\n",
    "    # Compute the average of each column\n",
    "    column_averages = np.mean(forecasts, axis=0)\n",
    "    # Get the indices that would sort the columns based on their average\n",
    "    sorted_indices = np.argsort(column_averages)\n",
    "    # Sort the array columns based on the sorted indices\n",
    "    forecasts = forecasts[:, sorted_indices]\n",
    "    forecasts = forecasts.tolist()\n",
    "    n_sims = len(forecasts[0])\n",
    "    # create the return messages\n",
    "    msg = {\n",
    "        \"generator_code_name\": \"hs_bootstrap_seasonal\",\n",
    "        \"run_time\": datetime.utcnow(),\n",
    "        \"raw_data\": data,\n",
    "        \"sim_length\": sim_length,\n",
    "        \"n_sims\": n_sims,\n",
    "        \"status\": \"success\",\n",
    "        \"forecast\": forecasts,\n",
    "        \"percentiles\": percentiles,\n",
    "    }\n",
    "    return msg"
   ]
  },
  {
   "cell_type": "code",
   "execution_count": 13,
   "id": "ad6284af-c30c-4bbd-a207-2bdbc373f2c5",
   "metadata": {
    "execution": {
     "iopub.execute_input": "2024-12-11T14:40:24.108576Z",
     "iopub.status.busy": "2024-12-11T14:40:24.108387Z",
     "iopub.status.idle": "2024-12-11T14:40:24.114277Z",
     "shell.execute_reply": "2024-12-11T14:40:24.113899Z",
     "shell.execute_reply.started": "2024-12-11T14:40:24.108563Z"
    }
   },
   "outputs": [],
   "source": [
    "import statsmodels\n",
    "def sarima(data, order,\n",
    "           sim_length = 18, n_sims = 200):\n",
    "    # run the sarima model\n",
    "    # order: [p, d, q, P, D, Q, s] where s is the seasonal period\n",
    "\n",
    "    # model fitting\n",
    "    AR, D, MA, SAR, SD, SMA, SS = order\n",
    "    model = statsmodels.api.tsa.statespace.SARIMAX(data, trend='c', order=(AR, D, MA), seasonal_order=(SAR, SD, SMA, SS))\n",
    "    sarima_res = model.fit(disp=0)\n",
    "    forecasts = np.array(\n",
    "        [sarima_res.simulate(sim_length, anchor='end') for x in range(n_sims)]).T\n",
    "    percentiles = percentiles_as_dict(forecasts)\n",
    "    # sort columns by mean: forecasts: n_sims x forecast_length\n",
    "    # Compute the average of each column\n",
    "    column_averages = np.mean(forecasts, axis=0)\n",
    "    # Get the indices that would sort the columns based on their average\n",
    "    sorted_indices = np.argsort(column_averages)\n",
    "    # Sort the array columns based on the sorted indices\n",
    "    forecasts = forecasts[:, sorted_indices]\n",
    "    forecasts = forecasts.tolist()\n",
    "\n",
    "    # save results\n",
    "    msg = {\"generator_code_name\": \"sarima\", \"run_time\": datetime.utcnow(), \"raw_data\": data, \"sim_length\": sim_length,\n",
    "           \"n_sims\": n_sims, \"status\": \"success\", \"stats_tests\": {\n",
    "            'AIC_BIC_HQIC': sarima_res.aic + sarima_res.bic + sarima_res.hqic,\n",
    "            'AIC_BIC': sarima_res.aic + sarima_res.bic,\n",
    "            'HQIC': sarima_res.hqic,\n",
    "            'std_resid': np.nanstd(sarima_res.resid),\n",
    "            'sarima_summary': sarima_res.summary().as_text(),\n",
    "        }, \"model_parameters\": {\n",
    "            \"AR\": AR,\n",
    "            \"D\": D,\n",
    "            \"MA\": MA,\n",
    "            \"SAR\": SAR,\n",
    "            \"SD\": SD,\n",
    "            \"SMA\": SMA,\n",
    "            \"SS\": SS,\n",
    "        },\n",
    "           'forecast': forecasts,\n",
    "           'percentiles': percentiles,\n",
    "           }\n",
    "    return msg"
   ]
  },
  {
   "cell_type": "code",
   "execution_count": 266,
   "id": "b2ded374-a515-4f9a-83a1-1f906c67911b",
   "metadata": {},
   "outputs": [],
   "source": [
    "msg = sarima(sic_data, order=[0,1,0,0,0,0,12],sim_length = 18,n_sims = 1000)"
   ]
  },
  {
   "cell_type": "code",
   "execution_count": 158,
   "id": "f0873f31-1005-4d76-901c-9c60911c1a77",
   "metadata": {},
   "outputs": [],
   "source": [
    "msg = filtered_hs_bootstrap_seasonal(sic_data, freq=12,sim_length = 18,n_sims = 10000)"
   ]
  },
  {
   "cell_type": "code",
   "execution_count": 14,
   "id": "0416991f-ba10-4202-bc97-09e13e9b7a61",
   "metadata": {
    "execution": {
     "iopub.execute_input": "2024-12-11T14:40:28.191488Z",
     "iopub.status.busy": "2024-12-11T14:40:28.191295Z",
     "iopub.status.idle": "2024-12-11T14:40:28.195828Z",
     "shell.execute_reply": "2024-12-11T14:40:28.194960Z",
     "shell.execute_reply.started": "2024-12-11T14:40:28.191475Z"
    }
   },
   "outputs": [],
   "source": [
    "def generate_quantiles_data(df_test, msg, sim_length=18):\n",
    "    # df_test: pd.Series or pd.DataFrame of sic price\n",
    "    # obtain simulation paths\n",
    "    sim_paths = np.array(msg['forecast']).tolist()\n",
    "        \n",
    "    quantiles = [find_quantile(sim_paths[i], df_test.iloc[-(18-i)].values) for i in range(sim_length)]\n",
    "    return quantiles"
   ]
  },
  {
   "cell_type": "code",
   "execution_count": 15,
   "id": "2e002562-d317-4fb4-9102-44329b46052f",
   "metadata": {
    "execution": {
     "iopub.execute_input": "2024-12-11T14:40:28.487731Z",
     "iopub.status.busy": "2024-12-11T14:40:28.487593Z",
     "iopub.status.idle": "2024-12-11T14:40:28.492606Z",
     "shell.execute_reply": "2024-12-11T14:40:28.491217Z",
     "shell.execute_reply.started": "2024-12-11T14:40:28.487719Z"
    }
   },
   "outputs": [],
   "source": [
    "def find_quantile(arr, num):\n",
    "    arr_smaller = sum(i < num for i in arr)\n",
    "    arr_equal = sum(i == num for i in arr)\n",
    "    # arr_bigger = arr[arr > num]\n",
    "    return float(arr_smaller + 0.5 * arr_equal) / len(arr)\n",
    "def calc_breach_score(df_q, threshold):\n",
    "    # threshold: should be a value in (0,1), and closer to 1 for it to be useful\n",
    "    arr = df_q\n",
    "    arr_larger = sum(i >=threshold for i in arr)\n",
    "    breach_ratio_larger = arr_larger/len(arr)\n",
    "    arr_lesser = sum(i <=(1-threshold) for i in arr)\n",
    "    breach_ratio_lesser = arr_lesser/len(arr)\n",
    "    # use mean for now\n",
    "    return (breach_ratio_lesser + breach_ratio_larger)/2"
   ]
  },
  {
   "cell_type": "code",
   "execution_count": 349,
   "id": "f2ee9976-71f5-4ed5-a04e-799b01698b59",
   "metadata": {},
   "outputs": [
    {
     "data": {
      "text/plain": [
       "0.2222222222222222"
      ]
     },
     "execution_count": 349,
     "metadata": {},
     "output_type": "execute_result"
    }
   ],
   "source": [
    "calc_breach_score(quantiles, 0.9)"
   ]
  },
  {
   "cell_type": "code",
   "execution_count": 352,
   "id": "134bc80e-cfcb-405b-89eb-beba785b8dfb",
   "metadata": {},
   "outputs": [],
   "source": [
    "# example\n",
    "# refine sarima parameter ranges\n",
    "import itertools\n",
    "import pmdarima\n",
    "\n",
    "p = [0,1,2,3,4,5]\n",
    "d = [1]\n",
    "q = [0,1,2,3,4,5]\n",
    "P = [0,1,2]\n",
    "D = [0,1]\n",
    "Q = [0,1,2]\n",
    "m = [12]\n",
    "config_to_loop = [list(item) for item in itertools.product(p, d, q, P, D, Q, m)]\n",
    "# get all sg stats for an sic\n",
    "sic_str = 'US3604'\n",
    "res = {}\n",
    "details, sic_data, _ = sic_loader.DataCenter.load_sic_data_db(sic_str, drop_extension=False)\n",
    "# use pmdarima for best sarima param\n",
    "sic_log = np.log(sic_data)\n",
    "model = pmdarima.auto_arima(sic_log, d = 1, information_criterion = 'bic',stepwise = True,\n",
    "                          start_p = 0,max_p = 5,max_d = 1,\n",
    "                          start_q = 0,max_q = 5, \n",
    "                          start_P = 0,max_P = 2,start_Q = 0,max_Q = 2, max_order = 5,\n",
    "                          seasonal=True, m=12)\n",
    "best_params = [model.order[0], model.order[1], model.order[2], \n",
    "                    model.seasonal_order[0], model.seasonal_order[1], model.seasonal_order[2], 12]\n",
    "config_to_loop.remove(best_params)\n",
    "res ['fhsb'] = calc_stats (sic_str,'fhsb',pd.to_datetime('2024-09-01'))\n",
    "# res ['hsb'] = calc_stats (sic_str,'hsb',pd.to_datetime('2024-09-01'))\n",
    "# res ['sarima_best'] = calc_stats (sic_str,'sarima',best_params,pd.to_datetime('2024-09-01'))\n",
    "# for param in config_to_loop[0:10]:   \n",
    "#     res ['sarima_'+str(param)] = calc_stats (sic_str,'sarima',param,pd.to_datetime('2024-09-01'))"
   ]
  },
  {
   "cell_type": "code",
   "execution_count": 16,
   "id": "54b9a3ba-e09b-4f0a-a43c-bb7e461be8e4",
   "metadata": {
    "execution": {
     "iopub.execute_input": "2024-12-11T14:40:32.656470Z",
     "iopub.status.busy": "2024-12-11T14:40:32.656266Z",
     "iopub.status.idle": "2024-12-11T14:40:32.665413Z",
     "shell.execute_reply": "2024-12-11T14:40:32.664478Z",
     "shell.execute_reply.started": "2024-12-11T14:40:32.656456Z"
    }
   },
   "outputs": [],
   "source": [
    "import SimilarityMetrics as sm\n",
    "import SimilarityObjectiveFramework as sof\n",
    "import warnings\n",
    "warnings.filterwarnings(\"ignore\")\n",
    "import statsmodels.api\n",
    "\n",
    "def calc_stats (sic_str,sg,sarima_params,datetime_anchor = pd.to_datetime('2024-08-01')):# defaults to backtest from now \n",
    "    # only load data once for all backtest\n",
    "    details, sic_data, _ = sic_loader.DataCenter.load_sic_data_db(sic_str, drop_extension=False)\n",
    "    # rmse_by_minmax = []\n",
    "    rmse_by_mean = []\n",
    "    all_quantiles = []\n",
    "    \n",
    "    for i in range(0,60): # defaults to backtest 60 months\n",
    "        bt_datetime_anchor = datetime_anchor - relativedelta(months=i)\n",
    "        datetime_bt_start = bt_datetime_anchor - relativedelta(months=18) # defaults to 18 months structure\n",
    "\n",
    "        sic_data_1 = sic_data[sic_data.index >= pd.to_datetime('2012-01-01')]\n",
    "        sic_data_1 = sic_data_1[sic_data_1.index < datetime_bt_start]\n",
    "        sic_data_1 = sic_data_1.resample('ME').mean()\n",
    "        if sg == 'fhsb':\n",
    "            msg = filtered_hs_bootstrap_seasonal(sic_data_1, freq=12,sim_length = 18,n_sims = 10000)\n",
    "        elif sg == 'hsb':\n",
    "            msg = hs_bootstrap_seasonal(sic_data_1, freq=12,sim_length = 18,n_sims = 10000)\n",
    "        elif sg == 'sarima':\n",
    "            msg = sarima(sic_data_1, order=sarima_params,sim_length = 18,n_sims = 100)# 100 sims takes approximately 1 sec\n",
    "\n",
    "        sic_data_2 = sic_data[sic_data.index < bt_datetime_anchor]\n",
    "        sic_data_2 = sic_data_2.resample('ME').mean()\n",
    "    \n",
    "        price_metric_results = sm.SimilarityMetrics.evaluate_simulations(self = sm.SimilarityMetrics,\n",
    "                                                                historical_price_test = sic_data_2[-18:], \n",
    "                                                                similated_price_paths = np.array(msg['percentiles']['mean']).reshape(-1,1), \n",
    "                                                                eval_basis='price', metrics=[])\n",
    "        rmse_score = price_metric_results['price_rmse_score']\n",
    "        rmse = transform(rmse_score)\n",
    "        normalized_rmse = rmse /float(sic_data_2[-18:].mean())\n",
    "        rmse_by_mean.append(normalized_rmse)\n",
    "\n",
    "        quantiles = generate_quantiles_data(sic_data_2, msg, sim_length=18)\n",
    "        all_quantiles = all_quantiles + quantiles\n",
    "    \n",
    "    normalized_rmse_mean = np.mean(rmse_by_mean)\n",
    "    ABR_90 = calc_breach_score(all_quantiles, 0.9)\n",
    "    ABR_95 = calc_breach_score(all_quantiles, 0.95)\n",
    "    ABR_99 = calc_breach_score(all_quantiles, 0.99 )\n",
    "    ABR_100 = calc_breach_score(all_quantiles, 1)\n",
    "    \n",
    "    return normalized_rmse_mean, ABR_90, ABR_95, ABR_99, ABR_100"
   ]
  },
  {
   "cell_type": "code",
   "execution_count": 19,
   "id": "a65449b6-d489-4c41-8000-ce370f0538b9",
   "metadata": {
    "execution": {
     "iopub.execute_input": "2024-12-11T14:40:45.124239Z",
     "iopub.status.busy": "2024-12-11T14:40:45.124017Z",
     "iopub.status.idle": "2024-12-11T14:41:25.946388Z",
     "shell.execute_reply": "2024-12-11T14:41:25.946025Z",
     "shell.execute_reply.started": "2024-12-11T14:40:45.124223Z"
    },
    "scrolled": true
   },
   "outputs": [
    {
     "data": {
      "text/plain": [
       "(0.7637253616528947,\n",
       " 0.056018518518518516,\n",
       " 0.027314814814814816,\n",
       " 0.010185185185185184,\n",
       " 0.006944444444444444)"
      ]
     },
     "execution_count": 19,
     "metadata": {},
     "output_type": "execute_result"
    }
   ],
   "source": [
    "sarima_params = (2,1,0,1,0,1,12)\n",
    "calc_stats ('US3356','fhsb',sarima_params,datetime_anchor = pd.to_datetime('2024-10-01'))"
   ]
  },
  {
   "cell_type": "code",
   "execution_count": 20,
   "id": "74dd22be-b0bd-4b31-8d00-5f2d3ccb6d9e",
   "metadata": {
    "execution": {
     "iopub.execute_input": "2024-12-11T14:41:25.947165Z",
     "iopub.status.busy": "2024-12-11T14:41:25.946999Z",
     "iopub.status.idle": "2024-12-11T14:42:05.918368Z",
     "shell.execute_reply": "2024-12-11T14:42:05.917869Z",
     "shell.execute_reply.started": "2024-12-11T14:41:25.947153Z"
    }
   },
   "outputs": [
    {
     "data": {
      "text/plain": [
       "(0.5774303046455778,\n",
       " 0.05138888888888889,\n",
       " 0.024074074074074074,\n",
       " 0.01388888888888889,\n",
       " 0.011574074074074073)"
      ]
     },
     "execution_count": 20,
     "metadata": {},
     "output_type": "execute_result"
    }
   ],
   "source": [
    "calc_stats ('US3356','hsb',sarima_params,datetime_anchor = pd.to_datetime('2024-10-01'))"
   ]
  },
  {
   "cell_type": "code",
   "execution_count": 21,
   "id": "ac416bdc-bb7c-44e9-baf2-c98e0e9966a8",
   "metadata": {
    "execution": {
     "iopub.execute_input": "2024-12-11T14:42:05.918830Z",
     "iopub.status.busy": "2024-12-11T14:42:05.918700Z",
     "iopub.status.idle": "2024-12-11T14:42:37.135183Z",
     "shell.execute_reply": "2024-12-11T14:42:37.134767Z",
     "shell.execute_reply.started": "2024-12-11T14:42:05.918819Z"
    }
   },
   "outputs": [
    {
     "data": {
      "text/plain": [
       "(0.47639104956741096,\n",
       " 0.11990740740740741,\n",
       " 0.07546296296296295,\n",
       " 0.031018518518518515,\n",
       " 0.019444444444444445)"
      ]
     },
     "execution_count": 21,
     "metadata": {},
     "output_type": "execute_result"
    }
   ],
   "source": [
    "calc_stats ('US3356','sarima',sarima_params,datetime_anchor = pd.to_datetime('2024-10-01'))"
   ]
  },
  {
   "cell_type": "code",
   "execution_count": 22,
   "id": "232dc00e-1012-4364-a978-af71c9c74dbb",
   "metadata": {
    "execution": {
     "iopub.execute_input": "2024-12-11T14:42:37.136054Z",
     "iopub.status.busy": "2024-12-11T14:42:37.135910Z",
     "iopub.status.idle": "2024-12-11T14:42:37.139546Z",
     "shell.execute_reply": "2024-12-11T14:42:37.138720Z",
     "shell.execute_reply.started": "2024-12-11T14:42:37.136042Z"
    }
   },
   "outputs": [],
   "source": [
    "def transform(x):\n",
    "\t\t'''\n",
    "\t\ttransform back\n",
    "\t\t'''\n",
    "\t\treturn x / (1-x)\n"
   ]
  },
  {
   "cell_type": "code",
   "execution_count": 250,
   "id": "9b17e68b-9696-430f-b763-51f59892e8f3",
   "metadata": {},
   "outputs": [
    {
     "data": {
      "image/png": "[encoded data removed]",
      "text/plain": [
       "<Figure size 640x480 with 1 Axes>"
      ]
     },
     "metadata": {},
     "output_type": "display_data"
    }
   ],
   "source": [
    "import matplotlib\n",
    "from matplotlib import pyplot as plt\n",
    "plt.plot(sic_data);plt.show()"
   ]
  },
  {
   "cell_type": "code",
   "execution_count": null,
   "id": "a4c84cb6-59cf-4d5c-8765-8ec918654741",
   "metadata": {},
   "outputs": [],
   "source": []
  }
 ],
 "metadata": {
  "kernelspec": {
   "display_name": "Python 3 (ipykernel)",
   "language": "python",
   "name": "python3"
  },
  "language_info": {
   "codemirror_mode": {
    "name": "ipython",
    "version": 3
   },
   "file_extension": ".py",
   "mimetype": "text/x-python",
   "name": "python",
   "nbconvert_exporter": "python",
   "pygments_lexer": "ipython3",
   "version": "3.11.9"
  }
 },
 "nbformat": 4,
 "nbformat_minor": 5
}
